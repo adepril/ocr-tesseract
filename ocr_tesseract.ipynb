{
 "cells": [
  {
   "cell_type": "code",
   "execution_count": 2,
   "metadata": {},
   "outputs": [
    {
     "name": "stdout",
     "output_type": "stream",
     "text": [
      "Collecting opencv-python\n",
      "  Downloading opencv_python-4.5.5.64-cp36-abi3-win_amd64.whl (35.4 MB)\n",
      "     --------------------------------------- 35.4/35.4 MB 28.5 MB/s eta 0:00:00\n",
      "Collecting numpy>=1.14.5\n",
      "  Using cached numpy-1.22.3-cp39-cp39-win_amd64.whl (14.7 MB)\n",
      "Installing collected packages: numpy, opencv-python\n",
      "Successfully installed numpy-1.22.3 opencv-python-4.5.5.64\n"
     ]
    }
   ],
   "source": [
    "!pip install opencv-python"
   ]
  },
  {
   "cell_type": "code",
   "execution_count": 1,
   "metadata": {
    "id": "XCxbkseMyPcJ"
   },
   "outputs": [],
   "source": [
    "import cv2"
   ]
  },
  {
   "cell_type": "code",
   "execution_count": 4,
   "metadata": {
    "colab": {
     "base_uri": "https://localhost:8080/"
    },
    "id": "XAN3jL6h_9RV",
    "outputId": "28e0a68e-c625-4cb9-d12a-026917499aef"
   },
   "outputs": [
    {
     "name": "stdout",
     "output_type": "stream",
     "text": [
      "Collecting tesseract\n",
      "  Using cached tesseract-0.1.3.tar.gz (45.6 MB)\n",
      "  Preparing metadata (setup.py): started\n",
      "  Preparing metadata (setup.py): finished with status 'done'\n",
      "Using legacy 'setup.py install' for tesseract, since package 'wheel' is not installed.\n",
      "Installing collected packages: tesseract\n",
      "  Running setup.py install for tesseract: started\n",
      "  Running setup.py install for tesseract: finished with status 'done'\n",
      "Successfully installed tesseract-0.1.3\n"
     ]
    }
   ],
   "source": [
    "!pip install tesseract"
   ]
  },
  {
   "cell_type": "code",
   "execution_count": 5,
   "metadata": {
    "colab": {
     "base_uri": "https://localhost:8080/"
    },
    "id": "aqjFOeDwzL3Y",
    "outputId": "d9f6f0c4-d1ff-4f54-ae1b-97c25cb2f401"
   },
   "outputs": [
    {
     "name": "stdout",
     "output_type": "stream",
     "text": [
      "Collecting pytesseract\n",
      "  Downloading pytesseract-0.3.9-py2.py3-none-any.whl (14 kB)\n",
      "Requirement already satisfied: packaging>=21.3 in d:\\dev\\__workspace__\\_python\\ocr-and-tesseract\\env\\lib\\site-packages (from pytesseract) (21.3)\n",
      "Collecting Pillow>=8.0.0\n",
      "  Using cached Pillow-9.1.0-cp39-cp39-win_amd64.whl (3.3 MB)\n",
      "Requirement already satisfied: pyparsing!=3.0.5,>=2.0.2 in d:\\dev\\__workspace__\\_python\\ocr-and-tesseract\\env\\lib\\site-packages (from packaging>=21.3->pytesseract) (3.0.8)\n",
      "Installing collected packages: Pillow, pytesseract\n",
      "Successfully installed Pillow-9.1.0 pytesseract-0.3.9\n"
     ]
    }
   ],
   "source": [
    "!pip install pytesseract"
   ]
  },
  {
   "cell_type": "code",
   "execution_count": 2,
   "metadata": {
    "id": "YMvqik9By9ng"
   },
   "outputs": [],
   "source": [
    "import pytesseract"
   ]
  },
  {
   "cell_type": "code",
   "execution_count": 3,
   "metadata": {
    "id": "lAzSEPNU1ZRQ"
   },
   "outputs": [],
   "source": [
    "#extract text from image\n",
    "path_to_tesseract = r\"D:/DEV/Tesseract-OCR/tesseract.exe\"\n",
    "pytesseract.pytesseract.tesseract_cmd = path_to_tesseract\n",
    "\n",
    "def ocr_core(img):\n",
    "    text=pytesseract.image_to_string(img)\n",
    "    return text"
   ]
  },
  {
   "cell_type": "code",
   "execution_count": 4,
   "metadata": {
    "id": "3mWowtpZ2G8z"
   },
   "outputs": [],
   "source": [
    "#read image file\n",
    "img=cv2.imread('testocr2.png')"
   ]
  },
  {
   "cell_type": "code",
   "execution_count": 5,
   "metadata": {
    "colab": {
     "base_uri": "https://localhost:8080/",
     "height": 450
    },
    "id": "8gAmQcAE21fW",
    "outputId": "b6a34634-078d-4091-9c10-042b64a94658"
   },
   "outputs": [
    {
     "name": "stdout",
     "output_type": "stream",
     "text": [
      "PREFACE\n",
      "\n",
      "Les déchets de notre civilisation constituent l’une des faiblesses des systémes\n",
      "economiques qui se sont développés dans beaucoup de pays du monde, notamment\n",
      "dans les pays industrialisés.\n",
      "\n",
      "“Produire plus, consommer plus”, a été pendant longtemps le leitmotiv de notre\n",
      "économie et constitue encore l'un des fers de lance de la croissance économique\n",
      "lorsque le développement “va mal”. ,\n",
      "\n",
      "Tous les pays qui se sont engagés dans cette voie se sont trouvés tét ou tard\n",
      "confrontés avec un probleme préoccupant, celui de l’élimination des déchets.\n",
      "L’évolution de la production de déchets dépend en effet principalement du niveau et\n",
      "de la structure des activités économiques de consommation et de production.\n",
      "\n",
      "La quantité totale de déchets produits dans les pays de l'OCDE aatteint environ 8\n",
      "milliards de tonnes en 1980. Au début de cette méme année les déchets urbains\n",
      "représentaient 350 millions de tonnes par an, soit 400 kg par habitant. Les déchets\n",
      "industriels atteignaient 1 milliard de tonnes (OCDE, 1985). Alors que dans la\n",
      "civilisation rurale la production de déchets était insignifiante, elle est devenue\n",
      "pléthorique avec la civilisation urbaine et le mode de consommation de masse qui\n",
      "raccompagne. Tout. d’abord, comme nous le disions précédemment, tout nous\n",
      "incite 4 consommer plus, il s’agit bien souvent de produits ptus diversifiés ou moins\n",
      "durables, ensuite il est presque impossible aujourd’hui d’acheter un produit sans\n",
      "acheter son embaliage... qui est trop souvent jeté.\n",
      "\n",
      "Les statistiques établies par la société T.I.R.U. qui traite les déchets de\n",
      "l'agglomération parisienne fournissent un résumé saisissant de cette évolution (in\n",
      "PEtat de l’Environnement, 1984).\n",
      "\n",
      "En 20 ans, le tonnage collecté a augmenté de 30 %, l’'augmentation en volume est\n",
      "nettement supérieure. Aujourd’hui les Francais produisent environ 14 millions de\n",
      "tonnes d’ordures ménagéres par an, auxquels il convient d’ajouter 1,5 million de\n",
      "tonnes de déchets encombranis.\n",
      "\n",
      "Nos compatriotes ignorent le plus souvent cette relation entre un type de\n",
      "production et augmentation des déchets. En développant la technique des\n",
      "élevages hors-sol notre pays se trouve a la téte de 30 millions de tonnes/an de lisier\n",
      "comme le rappelle Miche! MUSTIN...\n",
      "\n",
      "Si nous en sommes arrivés 1a, c’est parce que, au moment ot ont été lancées les\n",
      "grandes idées qui président a ia destinée du monde industriel tel le Taylorisme ou le\n",
      "Consumérisme, les 6conomistes ont oublié de raisonner en terme de systeme\n",
      "reproductible. Pour eux, en effet, le systeme économique se base sur lacoexistence.\n",
      "de deux catégories d’individus :\n",
      "\n",
      "les producteurs et les consommateurs.\n",
      "\n"
     ]
    }
   ],
   "source": [
    "print(ocr_core(img))"
   ]
  }
 ],
 "metadata": {
  "colab": {
   "collapsed_sections": [],
   "name": "ocr-tesseract.ipynb",
   "provenance": []
  },
  "kernelspec": {
   "display_name": "Python 3 (ipykernel)",
   "language": "python",
   "name": "python3"
  },
  "language_info": {
   "codemirror_mode": {
    "name": "ipython",
    "version": 3
   },
   "file_extension": ".py",
   "mimetype": "text/x-python",
   "name": "python",
   "nbconvert_exporter": "python",
   "pygments_lexer": "ipython3",
   "version": "3.9.12"
  }
 },
 "nbformat": 4,
 "nbformat_minor": 4
}
